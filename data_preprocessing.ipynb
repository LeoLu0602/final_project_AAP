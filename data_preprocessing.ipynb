{
 "cells": [
  {
   "cell_type": "code",
   "execution_count": null,
   "metadata": {},
   "outputs": [],
   "source": [
    "import numpy as np\n",
    "import pandas as pd\n",
    "import math"
   ]
  },
  {
   "cell_type": "code",
   "execution_count": null,
   "metadata": {},
   "outputs": [],
   "source": [
    "'''\n",
    "under path:\n",
    "\n",
    "benchmarkdataset_train.fasta\n",
    "benchmarkdataset_test.fasta\n",
    "\n",
    "NT15dataset_train.fasta \n",
    "NT15dataset_test.fasta\n",
    "'''\n",
    "\n",
    "path = '/home/yochen/bioinformatics/AntiAngiogenic/'"
   ]
  },
  {
   "cell_type": "code",
   "execution_count": null,
   "metadata": {},
   "outputs": [],
   "source": [
    "def get_data(filename):\n",
    "    with open(path + filename) as f:\n",
    "        lines = f.readlines()\n",
    "\n",
    "    for i in range(len(lines)):\n",
    "        lines[i] = lines[i].strip()\n",
    "    \n",
    "    return lines"
   ]
  },
  {
   "cell_type": "code",
   "execution_count": null,
   "metadata": {},
   "outputs": [],
   "source": [
    "get_data('benchmarkdataset_train.fasta')"
   ]
  },
  {
   "cell_type": "code",
   "execution_count": null,
   "metadata": {},
   "outputs": [],
   "source": [
    "def clean_raw_data(raw_data):\n",
    "    clean = []\n",
    "    \n",
    "    for i in range(0, len(raw_data), 2):\n",
    "        if raw_data[i][1] == 'n': clean.append([raw_data[i + 1], 0])\n",
    "        else: clean.append([raw_data[i + 1], 1])\n",
    "        \n",
    "    return clean"
   ]
  },
  {
   "cell_type": "code",
   "execution_count": null,
   "metadata": {},
   "outputs": [],
   "source": [
    "clean_raw_data(get_data('benchmarkdataset_train.fasta'))"
   ]
  },
  {
   "cell_type": "code",
   "execution_count": null,
   "metadata": {},
   "outputs": [],
   "source": [
    "def get_aac(seq, aa):\n",
    "    aac = 0\n",
    "    for amino_acid in seq:\n",
    "        if amino_acid == aa: aac += 1\n",
    "    aac /= len(seq)\n",
    "    return aac"
   ]
  },
  {
   "cell_type": "code",
   "execution_count": null,
   "metadata": {},
   "outputs": [],
   "source": [
    "get_aac('ARNNR', 'A')"
   ]
  },
  {
   "cell_type": "code",
   "execution_count": null,
   "metadata": {},
   "outputs": [],
   "source": [
    "def get_dpc(seq, dp):\n",
    "    dpc = 0\n",
    "    for i in range(0, len(seq) - 1):\n",
    "         if seq[i:i + 2] == dp: dpc += 1\n",
    "    dpc /= (len(seq) - 1)\n",
    "    return dpc"
   ]
  },
  {
   "cell_type": "code",
   "execution_count": null,
   "metadata": {},
   "outputs": [],
   "source": [
    "get_dpc('ARNNR', 'AR')"
   ]
  },
  {
   "cell_type": "code",
   "execution_count": null,
   "metadata": {},
   "outputs": [],
   "source": [
    "def get_tc(seq, tp):\n",
    "    tc = 0\n",
    "    for i in range(0, len(seq) - 2):\n",
    "         if seq[i:i + 3] == tp: tc += 1\n",
    "    tc /= (len(seq) - 2)\n",
    "    return tc"
   ]
  },
  {
   "cell_type": "code",
   "execution_count": null,
   "metadata": {},
   "outputs": [],
   "source": [
    "get_tc('ARNNR', 'ARN')"
   ]
  },
  {
   "cell_type": "code",
   "execution_count": null,
   "metadata": {},
   "outputs": [],
   "source": [
    "df = pd.read_csv('aaindex1.csv')\n",
    "df = df.drop('Description', axis='columns')\n",
    "df = df.fillna(0)\n",
    "df"
   ]
  },
  {
   "cell_type": "code",
   "execution_count": null,
   "metadata": {},
   "outputs": [],
   "source": [
    "aa_props = df.to_numpy()\n",
    "\n",
    "mean = np.mean(aa_props, axis=1).reshape((566, 1))\n",
    "std = np.std(aa_props, axis=1).reshape((566, 1))\n",
    "\n",
    "aa_props -= mean\n",
    "aa_props /= std\n",
    "\n",
    "aa_props[0]"
   ]
  },
  {
   "cell_type": "code",
   "execution_count": null,
   "metadata": {},
   "outputs": [],
   "source": [
    "aa_list = list(df.columns)\n",
    "aa_to_index = {}\n",
    "for i, aa in enumerate(aa_list): aa_to_index[aa] = i\n",
    "\n",
    "print(aa_list)    \n",
    "print(aa_to_index)"
   ]
  },
  {
   "cell_type": "code",
   "execution_count": null,
   "metadata": {},
   "outputs": [],
   "source": [
    "def correlation(ri, rj):\n",
    "    ans = 0\n",
    "    i = aa_to_index[ri]\n",
    "    j = aa_to_index[rj]\n",
    "    for prop in aa_props: ans += (prop[i] - prop[j]) ** 2\n",
    "    ans /= len(aa_props)\n",
    "    return ans"
   ]
  },
  {
   "cell_type": "code",
   "execution_count": null,
   "metadata": {},
   "outputs": [],
   "source": [
    "def correlation_angle(ri, rj):\n",
    "    i = aa_to_index[ri]\n",
    "    j = aa_to_index[rj]\n",
    "    \n",
    "    vi = aa_props[:, i]\n",
    "    vj = aa_props[:, j]\n",
    "    \n",
    "    cos = np.dot(vi, vj) / (np.linalg.norm(vi) * np.linalg.norm(vj))\n",
    "    angle = np.arccos(np.clip(cos, -1, 1))\n",
    "    \n",
    "    return angle"
   ]
  },
  {
   "cell_type": "code",
   "execution_count": null,
   "metadata": {},
   "outputs": [],
   "source": [
    "def get_pseaac(seq, lam=10, w=0.05):\n",
    "    pseaac = []\n",
    "    n = len(seq)\n",
    "    \n",
    "    for aa in aa_list: pseaac.append(get_aac(seq, aa))\n",
    "        \n",
    "    for i in range(1, lam + 1):\n",
    "        theta_i = 0\n",
    "        for j in range(i, n): theta_i += correlation(seq[j - i], seq[j])\n",
    "        theta_i /= (n - i)\n",
    "        pseaac.append(w * theta_i)\n",
    "        \n",
    "    pseaac = np.array(pseaac)\n",
    "    pseaac /= (1 + w * np.sum(pseaac[20:]))\n",
    "    \n",
    "    return pseaac"
   ]
  },
  {
   "cell_type": "code",
   "execution_count": null,
   "metadata": {},
   "outputs": [],
   "source": [
    "get_pseaac('IVDDWIYMIEEICKI')"
   ]
  },
  {
   "cell_type": "code",
   "execution_count": null,
   "metadata": {},
   "outputs": [],
   "source": [
    "def get_pseaac_angle(seq, lam=10, w=0.05):\n",
    "    pseaac = []\n",
    "    n = len(seq)\n",
    "    \n",
    "    for aa in aa_list: pseaac.append(get_aac(seq, aa))\n",
    "        \n",
    "    for i in range(1, lam + 1):\n",
    "        theta_i = 0\n",
    "        for j in range(i, n): theta_i += correlation_angle(seq[j - i], seq[j]) # use a differnt correlation function\n",
    "        theta_i /= (n - i)\n",
    "        pseaac.append(w * theta_i)\n",
    "        \n",
    "    pseaac = np.array(pseaac)\n",
    "    pseaac /= (1 + w * np.sum(pseaac[20:]))\n",
    "    \n",
    "    return pseaac"
   ]
  },
  {
   "cell_type": "code",
   "execution_count": null,
   "metadata": {},
   "outputs": [],
   "source": [
    "get_pseaac_angle('IVDDWIYMIEEICKI')"
   ]
  },
  {
   "cell_type": "code",
   "execution_count": null,
   "metadata": {},
   "outputs": [],
   "source": [
    "def seq2vec(seq):\n",
    "    vector = []\n",
    "    \n",
    "    for aa in aa_list: vector.append(get_aac(seq, aa))\n",
    "        \n",
    "    for aa1 in aa_list:\n",
    "        for aa2 in aa_list:\n",
    "            vector.append(get_dpc(seq, aa1 + aa2))\n",
    "            \n",
    "    for aa1 in aa_list:\n",
    "        for aa2 in aa_list:\n",
    "            for aa3 in aa_list:\n",
    "                vector.append(get_dpc(seq, aa1 + aa2 + aa3))\n",
    "    \n",
    "    vector += list(get_pseaac(seq))\n",
    "    vector += list(get_pseaac_angle(seq))\n",
    "    \n",
    "    vector = np.array(vector)\n",
    "            \n",
    "    return vector"
   ]
  },
  {
   "cell_type": "code",
   "execution_count": null,
   "metadata": {},
   "outputs": [],
   "source": [
    "print(len(seq2vec('KRFKQDGGWSHWSPWSSCSVTCGDGVITRIRLCNSPSPQMNGKPCEGEARETKACKKDACPI')))\n",
    "print(seq2vec('KRFKQDGGWSHWSPWSSCSVTCGDGVITRIRLCNSPSPQMNGKPCEGEARETKACKKDACPI'))"
   ]
  },
  {
   "cell_type": "code",
   "execution_count": null,
   "metadata": {},
   "outputs": [],
   "source": [
    "def generate_xy(data):\n",
    "    x = []\n",
    "    y = []\n",
    "    \n",
    "    for pair in data:\n",
    "        x.append(seq2vec(pair[0]))\n",
    "        y.append(pair[1])\n",
    "    \n",
    "    x = np.array(x)\n",
    "    y = np.array(y)\n",
    "    \n",
    "    return x, y"
   ]
  },
  {
   "cell_type": "code",
   "execution_count": null,
   "metadata": {},
   "outputs": [],
   "source": [
    "x_train, y_train = generate_xy(clean_raw_data(get_data('benchmarkdataset_train.fasta')))\n",
    "\n",
    "print(x_train)\n",
    "print()\n",
    "print(y_train)"
   ]
  },
  {
   "cell_type": "code",
   "execution_count": null,
   "metadata": {},
   "outputs": [],
   "source": [
    "print(len(x_train))\n",
    "print(len(y_train))"
   ]
  },
  {
   "cell_type": "code",
   "execution_count": null,
   "metadata": {},
   "outputs": [],
   "source": [
    "np.save('benchmarkdataset_x_train.npy', x_train)\n",
    "np.save('benchmarkdataset_y_train.npy', y_train)"
   ]
  },
  {
   "cell_type": "code",
   "execution_count": null,
   "metadata": {},
   "outputs": [],
   "source": [
    "x_test, y_test = generate_xy(clean_raw_data(get_data('benchmarkdataset_test.fasta')))\n",
    "\n",
    "print(x_test)\n",
    "print()\n",
    "print(y_test)"
   ]
  },
  {
   "cell_type": "code",
   "execution_count": null,
   "metadata": {},
   "outputs": [],
   "source": [
    "print(len(x_test))\n",
    "print(len(y_test))"
   ]
  },
  {
   "cell_type": "code",
   "execution_count": null,
   "metadata": {},
   "outputs": [],
   "source": [
    "np.save('benchmarkdataset_x_test.npy', x_test)\n",
    "np.save('benchmarkdataset_y_test.npy', y_test)"
   ]
  },
  {
   "cell_type": "code",
   "execution_count": null,
   "metadata": {},
   "outputs": [],
   "source": [
    "x_train, y_train = generate_xy(clean_raw_data(get_data('NT15dataset_train.fasta')))\n",
    "\n",
    "print(x_train)\n",
    "print()\n",
    "print(y_train)"
   ]
  },
  {
   "cell_type": "code",
   "execution_count": null,
   "metadata": {},
   "outputs": [],
   "source": [
    "print(len(x_train))\n",
    "print(len(y_train))"
   ]
  },
  {
   "cell_type": "code",
   "execution_count": null,
   "metadata": {},
   "outputs": [],
   "source": [
    "np.save('NT15dataset_x_train.npy', x_train)\n",
    "np.save('NT15dataset_y_train.npy', y_train)"
   ]
  },
  {
   "cell_type": "code",
   "execution_count": null,
   "metadata": {},
   "outputs": [],
   "source": [
    "x_test, y_test = generate_xy(clean_raw_data(get_data('NT15dataset_test.fasta')))\n",
    "\n",
    "print(x_test)\n",
    "print()\n",
    "print(y_test)"
   ]
  },
  {
   "cell_type": "code",
   "execution_count": null,
   "metadata": {},
   "outputs": [],
   "source": [
    "print(len(x_test))\n",
    "print(len(y_test))"
   ]
  },
  {
   "cell_type": "code",
   "execution_count": null,
   "metadata": {},
   "outputs": [],
   "source": [
    "np.save('NT15dataset_x_test.npy', x_test)\n",
    "np.save('NT15dataset_y_test.npy', y_test)"
   ]
  }
 ],
 "metadata": {
  "kernelspec": {
   "display_name": "Python 3",
   "language": "python",
   "name": "python3"
  },
  "language_info": {
   "codemirror_mode": {
    "name": "ipython",
    "version": 3
   },
   "file_extension": ".py",
   "mimetype": "text/x-python",
   "name": "python",
   "nbconvert_exporter": "python",
   "pygments_lexer": "ipython3",
   "version": "3.6.13"
  }
 },
 "nbformat": 4,
 "nbformat_minor": 2
}
