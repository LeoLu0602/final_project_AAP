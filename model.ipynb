{
 "cells": [
  {
   "cell_type": "code",
   "execution_count": null,
   "metadata": {},
   "outputs": [],
   "source": [
    "import numpy as np"
   ]
  },
  {
   "cell_type": "code",
   "execution_count": null,
   "metadata": {},
   "outputs": [],
   "source": [
    "benchmark_x_train = np.load('./data/benchmark/benchmarkdataset_x_train.npy')\n",
    "benchmark_y_train = np.load('./data/benchmark/benchmarkdataset_y_train.npy')\n",
    "benchmark_x_test = np.load('./data/benchmark/benchmarkdataset_x_test.npy')\n",
    "benchmark_y_test = np.load('./data/benchmark/benchmarkdataset_y_test.npy')"
   ]
  },
  {
   "cell_type": "code",
   "execution_count": null,
   "metadata": {},
   "outputs": [],
   "source": [
    "print(len(benchmark_x_train))\n",
    "print(len(benchmark_y_train))\n",
    "print(len(benchmark_x_test))\n",
    "print(len(benchmark_y_test))"
   ]
  },
  {
   "cell_type": "code",
   "execution_count": null,
   "metadata": {},
   "outputs": [],
   "source": [
    "NT15_x_train = np.load('./data/NT15/NT15dataset_x_train.npy')\n",
    "NT15_y_train = np.load('./data/NT15/NT15dataset_y_train.npy')\n",
    "NT15_x_test = np.load('./data/NT15/NT15dataset_x_test.npy')\n",
    "NT15_y_test = np.load('./data/NT15/NT15dataset_y_test.npy')"
   ]
  },
  {
   "cell_type": "code",
   "execution_count": null,
   "metadata": {},
   "outputs": [],
   "source": [
    "print(len(NT15_x_train))\n",
    "print(len(NT15_y_train))\n",
    "print(len(NT15_x_test))\n",
    "print(len(NT15_y_test))"
   ]
  },
  {
   "cell_type": "code",
   "execution_count": null,
   "metadata": {},
   "outputs": [],
   "source": [
    "from sklearn.ensemble import RandomForestClassifier as rfc\n",
    "clf = rfc()\n",
    "\n",
    "# from sklearn.svm import SVC\n",
    "# clf = SVC()\n",
    "\n",
    "# clf.fit(benchmark_x_train, benchmark_y_train)\n",
    "# clf.score(benchmark_x_test, benchmark_y_test)\n",
    "\n",
    "clf.fit(NT15_x_train, NT15_y_train)\n",
    "clf.score(NT15_x_test, NT15_y_test)"
   ]
  },
  {
   "cell_type": "code",
   "execution_count": null,
   "metadata": {},
   "outputs": [],
   "source": [
    "importances = clf.feature_importances_\n",
    "indices = np.argsort(importances)[::-1]\n",
    "indices"
   ]
  },
  {
   "cell_type": "code",
   "execution_count": null,
   "metadata": {},
   "outputs": [],
   "source": [
    "np.save('top_features_benchmark.npy', indices)"
   ]
  },
  {
   "cell_type": "code",
   "execution_count": null,
   "metadata": {},
   "outputs": [],
   "source": [
    "np.save('top_features_NT15.npy', indices)"
   ]
  }
 ],
 "metadata": {
  "kernelspec": {
   "display_name": "Python 3",
   "language": "python",
   "name": "python3"
  },
  "language_info": {
   "codemirror_mode": {
    "name": "ipython",
    "version": 3
   },
   "file_extension": ".py",
   "mimetype": "text/x-python",
   "name": "python",
   "nbconvert_exporter": "python",
   "pygments_lexer": "ipython3",
   "version": "3.6.13"
  }
 },
 "nbformat": 4,
 "nbformat_minor": 2
}
