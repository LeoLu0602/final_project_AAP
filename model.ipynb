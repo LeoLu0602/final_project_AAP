{
 "cells": [
  {
   "cell_type": "code",
   "execution_count": 1,
   "metadata": {},
   "outputs": [],
   "source": [
    "import numpy as np"
   ]
  },
  {
   "cell_type": "code",
   "execution_count": 2,
   "metadata": {},
   "outputs": [],
   "source": [
    "benchmark_x_train = np.load('./data/benchmark/benchmarkdataset_x_train.npy')\n",
    "benchmark_y_train = np.load('./data/benchmark/benchmarkdataset_y_train.npy')\n",
    "benchmark_x_test = np.load('./data/benchmark/benchmarkdataset_x_test.npy')\n",
    "benchmark_y_test = np.load('./data/benchmark/benchmarkdataset_y_test.npy')"
   ]
  },
  {
   "cell_type": "code",
   "execution_count": 3,
   "metadata": {},
   "outputs": [
    {
     "name": "stdout",
     "output_type": "stream",
     "text": [
      "213\n",
      "213\n",
      "55\n",
      "55\n"
     ]
    }
   ],
   "source": [
    "print(len(benchmark_x_train))\n",
    "print(len(benchmark_y_train))\n",
    "print(len(benchmark_x_test))\n",
    "print(len(benchmark_y_test))"
   ]
  },
  {
   "cell_type": "code",
   "execution_count": 4,
   "metadata": {},
   "outputs": [],
   "source": [
    "NT15_x_train = np.load('./data/NT15/NT15dataset_x_train.npy')\n",
    "NT15_y_train = np.load('./data/NT15/NT15dataset_y_train.npy')\n",
    "NT15_x_test = np.load('./data/NT15/NT15dataset_x_test.npy')\n",
    "NT15_y_test = np.load('./data/NT15/NT15dataset_y_test.npy')"
   ]
  },
  {
   "cell_type": "code",
   "execution_count": 5,
   "metadata": {},
   "outputs": [
    {
     "name": "stdout",
     "output_type": "stream",
     "text": [
      "160\n",
      "160\n",
      "40\n",
      "40\n"
     ]
    }
   ],
   "source": [
    "print(len(NT15_x_train))\n",
    "print(len(NT15_y_train))\n",
    "print(len(NT15_x_test))\n",
    "print(len(NT15_y_test))"
   ]
  },
  {
   "cell_type": "code",
   "execution_count": 6,
   "metadata": {},
   "outputs": [
    {
     "name": "stderr",
     "output_type": "stream",
     "text": [
      "/usr/local/lib/python3.6/dist-packages/sklearn/ensemble/weight_boosting.py:29: DeprecationWarning: numpy.core.umath_tests is an internal NumPy module and should not be imported. It will be removed in a future NumPy release.\n",
      "  from numpy.core.umath_tests import inner1d\n"
     ]
    },
    {
     "data": {
      "text/plain": [
       "0.6727272727272727"
      ]
     },
     "execution_count": 6,
     "metadata": {},
     "output_type": "execute_result"
    }
   ],
   "source": [
    "from sklearn.ensemble import RandomForestClassifier as rfc\n",
    "clf = rfc()\n",
    "clf.fit(benchmark_x_train, benchmark_y_train)\n",
    "clf.score(benchmark_x_test, benchmark_y_test)"
   ]
  }
 ],
 "metadata": {
  "kernelspec": {
   "display_name": "Python 3",
   "language": "python",
   "name": "python3"
  },
  "language_info": {
   "codemirror_mode": {
    "name": "ipython",
    "version": 3
   },
   "file_extension": ".py",
   "mimetype": "text/x-python",
   "name": "python",
   "nbconvert_exporter": "python",
   "pygments_lexer": "ipython3",
   "version": "3.6.13"
  }
 },
 "nbformat": 4,
 "nbformat_minor": 2
}
